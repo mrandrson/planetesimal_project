{
 "cells": [
  {
   "cell_type": "code",
   "execution_count": 2,
   "id": "1361e407-7000-4591-b0a6-f336ce4bc580",
   "metadata": {},
   "outputs": [
    {
     "ename": "NameError",
     "evalue": "name 'b' is not defined",
     "output_type": "error",
     "traceback": [
      "\u001b[0;31m---------------------------------------------------------------------------\u001b[0m",
      "\u001b[0;31mNameError\u001b[0m                                 Traceback (most recent call last)",
      "Cell \u001b[0;32mIn[2], line 21\u001b[0m\n\u001b[1;32m     18\u001b[0m     au_in_meters \u001b[38;5;241m=\u001b[39m \u001b[38;5;241m1.49e11\u001b[39m \u001b[38;5;66;03m# meters\u001b[39;00m\n\u001b[1;32m     19\u001b[0m     \u001b[38;5;28;01mreturn\u001b[39;00m au \u001b[38;5;241m*\u001b[39m au_in_meters\n\u001b[0;32m---> 21\u001b[0m b\n\u001b[1;32m     22\u001b[0m shu_x \u001b[38;5;241m=\u001b[39m np\u001b[38;5;241m.\u001b[39mlogspace(\u001b[38;5;241m-\u001b[39m\u001b[38;5;241m12\u001b[39m, np\u001b[38;5;241m.\u001b[39mlog10(\u001b[38;5;241m2\u001b[39m), \u001b[38;5;241m10000\u001b[39m)\n\u001b[1;32m     24\u001b[0m shu_integral \u001b[38;5;241m=\u001b[39m np\u001b[38;5;241m.\u001b[39mloadtxt(\u001b[38;5;124m'\u001b[39m\u001b[38;5;124mshuInt.txt\u001b[39m\u001b[38;5;124m'\u001b[39m)\n",
      "\u001b[0;31mNameError\u001b[0m: name 'b' is not defined"
     ]
    }
   ],
   "source": [
    "import numpy as np\n",
    "import matplotlib.pyplot as plt\n",
    "import scipy\n",
    "import math\n",
    "\n",
    "script_R = 3.36*10**3\n",
    "T = 10\n",
    "B = 8.86\n",
    "c_s = math.sqrt(script_R*T)\n",
    "M = 1.9891*10.0**30 ## kg \n",
    "G = 6.67*10.0**(-11)  ## m^3*kg^-1*s^-2\n",
    "\n",
    "def years_to_seconds(years):\n",
    "    seconds_per_year = 365.25 * 24 * 3600\n",
    "    return years * seconds_per_year\n",
    "\n",
    "def au_to_meters(au):\n",
    "    au_in_meters = 1.49e11 # meters\n",
    "    return au * au_in_meters\n",
    "\n",
    "b\n",
    "shu_x = np.logspace(-12, np.log10(2), 10000)\n",
    "\n",
    "shu_integral = np.loadtxt('shuInt.txt')\n",
    "\n",
    "shu_helper = scipy.interpolate.interp1d(shu_x, shu_integral, kind = 'cubic')\n",
    "\n",
    "def get_shu_integral(x):\n",
    "    if x < 10.0**(-12):\n",
    "        return 0\n",
    "    if x > 2:\n",
    "        return shu_helper(2) + 2*(x-2)\n",
    "    return shu_helper(x)\n",
    "\n",
    "r_out = 1.974342*10.0**15 # radius in the Shu model with initial enclosed mass equal to one solar mass\n",
    "##Is this Rmax?\n",
    "\n",
    "def get_Shu_enclosed_mass(r, t):\n",
    "    r0 = c_s*t\n",
    "    centralMass = .975502*c_s**2*r0/G\n",
    "    Mcalc =  centralMass + r0**3/(G*t**2)*get_shu_integral(r/r0)\n",
    "    return min(Mcalc, M)\n",
    "\n",
    "r_values = [10, 100, 1000]\n",
    "\n",
    "tsec = np.logspace(5, 14, 1000)\n",
    "\n",
    "for i, r in enumerate([au_to_meters(r_values[i]) for i in [0, 1, 2]]):\n",
    "    t = [tsec[i] for i in range(len(tsec))]\n",
    "    M_values = np.zeros(len(t))\n",
    "    for j in range(0, len(t)):\n",
    "        M_values[j] = get_Shu_enclosed_mass(r, t[j]) #kg\n",
    "    plt.plot(t, M_values, label=f'r = {r_values[i]} AU')\n",
    "\n",
    "\n",
    "plt.xlabel('t(s)', fontsize = 10)\n",
    "plt.ylabel('$M_{enc}(kg)$', fontsize = 10)\n",
    "plt.legend(fontsize = 10)\n",
    "plt.xscale('log')\n",
    "plt.yscale('log')\n",
    "plt.show()\n"
   ]
  },
  {
   "cell_type": "code",
   "execution_count": 3,
   "id": "4871885c-f301-41d3-94b9-248ab543abde",
   "metadata": {},
   "outputs": [
    {
     "ename": "NameError",
     "evalue": "name 'get_shu_integral' is not defined",
     "output_type": "error",
     "traceback": [
      "\u001b[0;31m---------------------------------------------------------------------------\u001b[0m",
      "\u001b[0;31mNameError\u001b[0m                                 Traceback (most recent call last)",
      "Cell \u001b[0;32mIn[3], line 5\u001b[0m\n\u001b[1;32m      3\u001b[0m r0 \u001b[38;5;241m=\u001b[39m c_s\u001b[38;5;241m*\u001b[39mt\n\u001b[1;32m      4\u001b[0m centralMass \u001b[38;5;241m=\u001b[39m \u001b[38;5;241m.975502\u001b[39m\u001b[38;5;241m*\u001b[39mc_s\u001b[38;5;241m*\u001b[39m\u001b[38;5;241m*\u001b[39m\u001b[38;5;241m2\u001b[39m\u001b[38;5;241m*\u001b[39mr0\u001b[38;5;241m/\u001b[39mG\n\u001b[0;32m----> 5\u001b[0m Mcalc \u001b[38;5;241m=\u001b[39m  centralMass \u001b[38;5;241m+\u001b[39m r0\u001b[38;5;241m*\u001b[39m\u001b[38;5;241m*\u001b[39m\u001b[38;5;241m3\u001b[39m\u001b[38;5;241m/\u001b[39m(G\u001b[38;5;241m*\u001b[39mt\u001b[38;5;241m*\u001b[39m\u001b[38;5;241m*\u001b[39m\u001b[38;5;241m2\u001b[39m)\u001b[38;5;241m*\u001b[39mget_shu_integral(r\u001b[38;5;241m/\u001b[39mr0)\n\u001b[1;32m      6\u001b[0m \u001b[38;5;28mprint\u001b[39m(r0)\n\u001b[1;32m      7\u001b[0m \u001b[38;5;28mprint\u001b[39m(centralMass)\n",
      "\u001b[0;31mNameError\u001b[0m: name 'get_shu_integral' is not defined"
     ]
    }
   ],
   "source": [
    "r = au_to_meters(10)\n",
    "t = 10**5\n",
    "r0 = c_s*t\n",
    "centralMass = .975502*c_s**2*r0/G\n",
    "Mcalc =  centralMass + r0**3/(G*t**2)*get_shu_integral(r/r0)\n",
    "print(r0)\n",
    "print(centralMass)\n",
    "print(Mcalc)\n",
    "print(G)\n",
    "print(r/10**10)\n",
    "print(r/r0)\n",
    "print(get_shu_integral(r/r0))"
   ]
  },
  {
   "cell_type": "code",
   "execution_count": 4,
   "id": "b1fbb75f-0c57-4583-853d-d7ac25a8cafc",
   "metadata": {},
   "outputs": [
    {
     "data": {
      "image/png": "[encoded data removed]",
      "text/plain": [
       "<Figure size 640x480 with 1 Axes>"
      ]
     },
     "metadata": {},
     "output_type": "display_data"
    }
   ],
   "source": [
    "import numpy as np\n",
    "import matplotlib.pyplot as plt\n",
    "import scipy\n",
    "from scipy import interpolate\n",
    "from scipy.optimize import brentq\n",
    "import h5py\n",
    "import math\n",
    "import rebound\n",
    "import sys\n",
    "import time\n",
    "script_R = 3.36*10**3\n",
    "T = 10 ##Kelvin\n",
    "B = 8.86\n",
    "c_s = math.sqrt(script_R*T)\n",
    "M = 1.9891*10.0**30 ## kg \n",
    "G = 6.674*10.0**(-11)  ## m^3*kg^-1*s^-2\n",
    "a = 0.975471932310942752606143078377\n",
    "b = 0.975502\n",
    "\n",
    "def years_to_seconds(years):\n",
    "    seconds_per_year = 365.25 * 24 * 3600\n",
    "    return years * seconds_per_year\n",
    "\n",
    "def au_to_meters(au):\n",
    "    au_in_meters = 1.49e11 # meters\n",
    "    return au * au_in_meters\n",
    "\n",
    "def meters_to_au(au):\n",
    "    au_in_meters = 1.49e11 # meters\n",
    "    return au / au_in_meters\n",
    "\n",
    "rmax = meters_to_au((G*M)/(2*c_s**2))\n",
    "\n",
    "\n",
    "v_x = np.logspace(-12, np.log10(2), 10000)\n",
    "\n",
    "v_integral = np.loadtxt('shuInt.txt')\n",
    "\n",
    "IntHelper = scipy.interpolate.interp1d(v_x, v_integral, kind = 'cubic')\n",
    "\n",
    "def get_x_integral(x):\n",
    "    if x < 10.0**(-12):\n",
    "        return 0\n",
    "    if x > 2:\n",
    "        return IntHelper(2) + 2*(x-2)\n",
    "    return IntHelper(x)\n",
    "\n",
    "\n",
    "def Mp(t):\n",
    "    return (a * c_s**3 * t)/G \n",
    "\n",
    "def getMenc(r, t):\n",
    "    x = r/(c_s*t)\n",
    "    integral = get_x_integral(x)\n",
    "    return (t*c_s**3/G)*integral\n",
    "\n",
    "def Mtot(r, t):\n",
    "    r0 = c_s*t\n",
    "    centralMass = .975502*c_s**2*r0/G\n",
    "    Mcalc =  centralMass + r0**3/(G*t**2)*get_x_integral(r/r0)\n",
    "    return Mcalc\n",
    "\n",
    "r_values = [10, 100, 1000]\n",
    "\n",
    "tsec = np.logspace(5, 14, 1000)\n",
    "\n",
    "for i, r in enumerate([au_to_meters(r_values[i]) for i in [0, 1, 2]]):\n",
    "    t = [tsec[i] for i in range(len(tsec))]\n",
    "    M_values = np.zeros(len(t))\n",
    "    for j in range(0, len(t)):\n",
    "        M_values[j] = Mtot(r, t[j]) \n",
    "    plt.plot(t, M_values, label=f'r = {r_values[i]} AU')\n",
    "\n",
    "plt.axvline(au_to_meters(10)/c_s, ymin=0.05, ymax = 0.75)\n",
    "plt.axvline(au_to_meters(100)/c_s, ymin=0.05, ymax = 0.75)\n",
    "plt.axvline(au_to_meters(1000)/c_s, ymin=0.05, ymax = 0.75)\n",
    "plt.plot(tsec, [M for i in range(len(tsec))])\n",
    "plt.xlabel('t(s)', fontsize = 10)\n",
    "plt.ylabel('$M_{enc}(kg)$', fontsize = 10)\n",
    "plt.legend(fontsize = 10)\n",
    "plt.xscale('log')\n",
    "plt.yscale('log')\n",
    "plt.show()"
   ]
  },
  {
   "cell_type": "markdown",
   "id": "602ce20a-e2ed-4efd-b97f-3c12196e9d60",
   "metadata": {},
   "source": [
    "It was a problem with the units and the handling of the conditions in the $\\verb|get_x_integral(x)|$ function"
   ]
  },
  {
   "cell_type": "code",
   "execution_count": 5,
   "id": "e8db577d-dfd3-43ef-9e08-457dbd1589d9",
   "metadata": {},
   "outputs": [
    {
     "name": "stdout",
     "output_type": "stream",
     "text": [
      "18330302.77982336\n",
      "9.002246028619433e+21\n",
      "1.5002697036800343e+27\n",
      "6.674e-11\n",
      "81286.16411290716\n",
      "162571.3527621413\n"
     ]
    }
   ],
   "source": [
    "r = au_to_meters(10)\n",
    "t = 10**5\n",
    "r0 = c_s*t\n",
    "centralMass = .975502*c_s**2*r0/G\n",
    "Mcalc =  centralMass + r0**3/(G*t**2)*get_x_integral(r/r0)\n",
    "print(r0)\n",
    "print(centralMass)\n",
    "print(Mcalc)\n",
    "print(G)\n",
    "print(r/r0)\n",
    "print(get_x_integral(r/r0))"
   ]
  },
  {
   "cell_type": "code",
   "execution_count": 6,
   "id": "0ce35b5e-a4ed-4be6-97b3-5be7f2e7ac29",
   "metadata": {},
   "outputs": [
    {
     "data": {
      "text/plain": [
       "183.3030277982336"
      ]
     },
     "execution_count": 6,
     "metadata": {},
     "output_type": "execute_result"
    }
   ],
   "source": [
    "c_s"
   ]
  },
  {
   "cell_type": "code",
   "execution_count": 7,
   "id": "7c9c4edc-2151-4542-9f3a-0cbac6bc0d56",
   "metadata": {},
   "outputs": [
    {
     "data": {
      "text/plain": [
       "19.0245363269572"
      ]
     },
     "execution_count": 7,
     "metadata": {},
     "output_type": "execute_result"
    }
   ],
   "source": [
    "get_x_integral(10)"
   ]
  },
  {
   "cell_type": "code",
   "execution_count": 32,
   "id": "35a9b586-d6b0-4967-a155-1f651a2e1bf8",
   "metadata": {},
   "outputs": [
    {
     "name": "stdout",
     "output_type": "stream",
     "text": [
      "[0, 0, 0, 0, 0, 0, 0, 0, 0, 0, 0, 0, 0, 0, 0, 0, 0, 0, 0, 0, 0, 0, 0, 2, 0, 0, 0, 0, 0, 1, 0, 2, 0, 0, 0, 0, 0, 0, 0, 0, 0, 0, 0, 0, 0, 0, 1, 1, 0, 0, 0, 0, 0, 0, 0, 0, 0, 0, 0, 0, 0, 1, 2, 2, 0, 0, 0, 0, 0, 1, 0, 0, 0, 0, 0, 0, 0, 0, 0, 1, 0, 0, 0, 0, 0, 0, 1, 0, 0, 0, 0, 0, 1, 0, 0, 0, 0, 0, 0, 0, 0, 0, 1, 1, 0, 0, 0, 0, 0, 0, 0, 1, 0, 0, 0, 0, 0, 1, 0, 0, 0, 0, 0, 0, 0, 0, 0, 0, 0, 0, 0, 0, 0, 1, 0, 1, 0, 0, 0, 0, 0, 0, 0, 1, 0, 0, 0, 0, 0, 1, 1, 0, 0, 0, 0, 0, 0, 0, 0, 1, 0, 0, 0, 0, 0, 0, 0, 0, 0, 0, 0, 0, 0, 0, 0, 0, 0, 0, 0, 0, 0, 1, 0, 0, 0, 0, 0, 0, 0, 0, 0, 0, 0, 0, 0, 0, 0, 1, 1, 2, 0, 0, 0, 0, 0, 0, 0, 0, 0, 0, 0, 0, 0, 0, 0, 1, 0, 0, 0, 1, 0, 0, 1, 1, 0, 0, 0, 0, 0, 0, 1, 2, 0, 0, 0, 0, 0, 0, 0, 0, 0, 0, 0, 0, 0, 0, 0, 0, 0, 0, 0, 0, 0, 0, 0, 0, 0, 0, 0, 0, 0, 0, 0, 1, 0, 0, 0, 0, 0, 0, 1, 0, 0, 0, 0, 0, 1, 2, 1, 0, 0, 0, 0, 0, 0, 0, 1, 1, 0, 0, 0, 0, 0, 0, 1, 1, 0, 0, 0, 0, 0, 0, 0, 0, 0, 0, 0, 0, 0, 0, 0, 1, 0, 0, 0, 0, 0, 1, 1, 1, 0, 0, 0, 0, 0, 0, 0, 0, 0, 0, 0, 0, 0, 0, 0, 1, 0, 0, 0, 0, 0, 0, 1, 0, 0, 0, 0, 0, 0, 0, 1, 1, 0, 0, 0, 0, 0, 0, 0, 0, 0, 0, 0, 0, 0, 0, 0, 0, 0, 0, 0, 0, 0, 0, 1, 1, 0, 0, 0, 0, 0, 0, 0, 0, 0, 0, 0, 0, 0, 0, 0, 1, 0, 0, 0, 0, 0, 0, 1, 0, 0, 0, 0, 0, 0, 0, 0, 0, 0, 0, 0, 0, 0, 0, 0, 0, 0, 0, 0, 0, 0, 1, 0, 0, 0, 0, 0, 1, 1, 2, 2, 2, 0, 0, 0, 0, 1, 0, 0, 2, 0, 0, 0, 0, 0, 0, 0, 1, 0, 0, 0, 0, 0, 1, 0, 0, 0, 0, 0, 0, 0, 0, 1, 2, 0, 0, 0, 0, 0, 1, 0, 0, 0, 0, 0, 0, 0, 0, 0, 2, 0, 0, 0, 0, 0, 0, 0, 0, 0, 0, 0, 0, 0, 0, 0, 1, 0, 0, 0, 0]\n"
     ]
    }
   ],
   "source": [
    "captured = []\n",
    "\n",
    "with open('captured_particles.txt', 'r') as file:\n",
    "    for line in file:\n",
    "        number = int(line.split()[1])\n",
    "        captured.append(number)\n",
    "\n",
    "print(captured)\n"
   ]
  },
  {
   "cell_type": "code",
   "execution_count": 64,
   "id": "0741cbe6-8d58-49b1-bb2d-8c4b7252dbf4",
   "metadata": {},
   "outputs": [
    {
     "data": {
      "image/png": "[encoded data removed]",
      "text/plain": [
       "<Figure size 640x480 with 1 Axes>"
      ]
     },
     "metadata": {},
     "output_type": "display_data"
    }
   ],
   "source": [
    "import matplotlib.pyplot as plt\n",
    "plt.title('Number of captured particles Histogram for $0 \\\\leq v_0 \\\\leq 20 \\\\ m/s$')\n",
    "plt.yscale('log')\n",
    "n, bins, patches = plt.hist(captured, bins = 'auto')\n",
    "\n",
    "plt.text(bins[0], n[0]+10, f'{n[0]}')\n",
    "plt.text(bins[5], n[5]+5, f'{n[5]}')\n",
    "plt.text(bins[9], n[9]+1, f'{n[9]}')\n",
    "\n",
    "plt.show()"
   ]
  },
  {
   "cell_type": "code",
   "execution_count": 34,
   "id": "fdc15556-fe64-4c9a-98cf-31c8774d022b",
   "metadata": {},
   "outputs": [
    {
     "name": "stdout",
     "output_type": "stream",
     "text": [
      "363\n"
     ]
    },
    {
     "data": {
      "image/png": "[encoded data removed]",
      "text/plain": [
       "<Figure size 640x480 with 1 Axes>"
      ]
     },
     "metadata": {},
     "output_type": "display_data"
    }
   ],
   "source": [
    "import matplotlib.pyplot as plt\n",
    "inputtxt = []\n",
    "capturedtxt = []\n",
    "\n",
    "with open('captured_particles.txt', 'r') as file:\n",
    "    lines = file.readlines()\n",
    "\n",
    "for i in range(len(lines)):\n",
    "    if 'Entered' in lines[i]:\n",
    "        inputtxt.append(int(lines[i].split()[1]))\n",
    "        capturedtxt.append(int(lines[i-1].split()[1]))\n",
    "\n",
    "capturedfrac = []\n",
    "\n",
    "for i in range(len(inputtxt)):\n",
    "    if inputtxt[i] == 0 or capturedtxt[i] == 0:\n",
    "        capturedfrac.append(0)\n",
    "    else:\n",
    "        capturedfrac.append(capturedtxt[i]/inputtxt[i])\n",
    "\n",
    "for i in range(len(capturedfrac)):\n",
    "    if capturedfrac[i] > 1:\n",
    "        print(i)\n",
    "        capturedfrac[i] = 1\n",
    "\n",
    "plt.yscale('log')\n",
    "n, bins, patches = plt.hist(capturedfrac, bins = 8, histtype = 'step')\n",
    "\n",
    "for i in range(len(bins)-1):\n",
    "    if n[i] > 0 :\n",
    "        plt.text(bins[i], n[i] + 0.05 * n[i], f'{n[i]}')\n",
    "\n",
    "plt.title('Fraction of Particles Captured for $0\\\\leq v_0 \\\\leq 10 \\\\ m/s$')\n",
    "plt.show()"
   ]
  },
  {
   "cell_type": "code",
   "execution_count": 35,
   "id": "7a607513-9caf-492f-b4f9-df710e12ebb0",
   "metadata": {},
   "outputs": [
    {
     "data": {
      "text/plain": [
       "1.946"
      ]
     },
     "execution_count": 35,
     "metadata": {},
     "output_type": "execute_result"
    }
   ],
   "source": [
    "import numpy as np\n",
    "np.mean(inputtxt)"
   ]
  },
  {
   "cell_type": "markdown",
   "id": "50040d9f-0389-4c8b-afce-1e3a72477b6d",
   "metadata": {},
   "source": [
    "For this run above, I used $b = \\sqrt{b_{max}^2*\\verb|np.random.random()|}$. I also ran it placing the particles at different angles around the radius of $R_{max}$, as we were doing before. On average, only about 4-7 particles were inserted per run. "
   ]
  },
  {
   "cell_type": "markdown",
   "id": "e1baffc5-ffc3-4748-bf73-6b9559d56f85",
   "metadata": {},
   "source": [
    "Number Density of planetesimals outside the cloud $n_0$\n",
    "\n",
    "On average capture use $N$, then the volume captured from satisfies \n",
    "\n",
    "$$Vn_0 =N$$\n",
    "\n",
    "$$V = N/n_0$$\n",
    "\n",
    "$$\\sigma = \\pi b_{max}^2$$\n",
    "\n",
    "$$v_i = v_0$$\n",
    "\n",
    "$$\\dfrac{dV}{dt} = \\sigma v_0$$\n",
    "\n",
    "$$\\dfrac{dN}{dt}=n_0 \\dfrac{dV}{dt}$$"
   ]
  },
  {
   "cell_type": "markdown",
   "id": "67c4c964-0cb1-45ea-9124-a7dd9540d6bb",
   "metadata": {},
   "source": [
    "38-40 (for homogenous case)\n",
    "\n",
    "$\\dot{R}$ can be zero for our case.\n",
    "\n",
    "Recreate plots on pages 9 and 10 with both $\\verb|testparticle.py|$ and $\\verb|Shu.py|$ in order to compare the scripts and make sure they're correct."
   ]
  },
  {
   "cell_type": "markdown",
   "id": "02b5555b-2ca2-481c-a372-dad5c408a109",
   "metadata": {},
   "source": [
    "Sometimes particle is added depending on $\\verb|N_exp| $"
   ]
  },
  {
   "cell_type": "code",
   "execution_count": 5,
   "id": "9cdfbe1e-76cb-4473-99f3-5819d180c996",
   "metadata": {},
   "outputs": [
    {
     "ename": "ValueError",
     "evalue": "No objects to concatenate",
     "output_type": "error",
     "traceback": [
      "\u001b[0;31m---------------------------------------------------------------------------\u001b[0m",
      "\u001b[0;31mValueError\u001b[0m                                Traceback (most recent call last)",
      "Cell \u001b[0;32mIn[5], line 16\u001b[0m\n\u001b[1;32m     12\u001b[0m         df \u001b[38;5;241m=\u001b[39m pd\u001b[38;5;241m.\u001b[39mDataFrame(data)\n\u001b[1;32m     13\u001b[0m         sims\u001b[38;5;241m.\u001b[39mappend(df)\n\u001b[0;32m---> 16\u001b[0m simtotal \u001b[38;5;241m=\u001b[39m pd\u001b[38;5;241m.\u001b[39mconcat(sims, ignore_index\u001b[38;5;241m=\u001b[39m\u001b[38;5;28;01mTrue\u001b[39;00m)\n\u001b[1;32m     19\u001b[0m display(simtotal)\n",
      "File \u001b[0;32m/opt/homebrew/anaconda3/lib/python3.12/site-packages/pandas/core/reshape/concat.py:382\u001b[0m, in \u001b[0;36mconcat\u001b[0;34m(objs, axis, join, ignore_index, keys, levels, names, verify_integrity, sort, copy)\u001b[0m\n\u001b[1;32m    379\u001b[0m \u001b[38;5;28;01melif\u001b[39;00m copy \u001b[38;5;129;01mand\u001b[39;00m using_copy_on_write():\n\u001b[1;32m    380\u001b[0m     copy \u001b[38;5;241m=\u001b[39m \u001b[38;5;28;01mFalse\u001b[39;00m\n\u001b[0;32m--> 382\u001b[0m op \u001b[38;5;241m=\u001b[39m _Concatenator(\n\u001b[1;32m    383\u001b[0m     objs,\n\u001b[1;32m    384\u001b[0m     axis\u001b[38;5;241m=\u001b[39maxis,\n\u001b[1;32m    385\u001b[0m     ignore_index\u001b[38;5;241m=\u001b[39mignore_index,\n\u001b[1;32m    386\u001b[0m     join\u001b[38;5;241m=\u001b[39mjoin,\n\u001b[1;32m    387\u001b[0m     keys\u001b[38;5;241m=\u001b[39mkeys,\n\u001b[1;32m    388\u001b[0m     levels\u001b[38;5;241m=\u001b[39mlevels,\n\u001b[1;32m    389\u001b[0m     names\u001b[38;5;241m=\u001b[39mnames,\n\u001b[1;32m    390\u001b[0m     verify_integrity\u001b[38;5;241m=\u001b[39mverify_integrity,\n\u001b[1;32m    391\u001b[0m     copy\u001b[38;5;241m=\u001b[39mcopy,\n\u001b[1;32m    392\u001b[0m     sort\u001b[38;5;241m=\u001b[39msort,\n\u001b[1;32m    393\u001b[0m )\n\u001b[1;32m    395\u001b[0m \u001b[38;5;28;01mreturn\u001b[39;00m op\u001b[38;5;241m.\u001b[39mget_result()\n",
      "File \u001b[0;32m/opt/homebrew/anaconda3/lib/python3.12/site-packages/pandas/core/reshape/concat.py:445\u001b[0m, in \u001b[0;36m_Concatenator.__init__\u001b[0;34m(self, objs, axis, join, keys, levels, names, ignore_index, verify_integrity, copy, sort)\u001b[0m\n\u001b[1;32m    442\u001b[0m \u001b[38;5;28mself\u001b[39m\u001b[38;5;241m.\u001b[39mverify_integrity \u001b[38;5;241m=\u001b[39m verify_integrity\n\u001b[1;32m    443\u001b[0m \u001b[38;5;28mself\u001b[39m\u001b[38;5;241m.\u001b[39mcopy \u001b[38;5;241m=\u001b[39m copy\n\u001b[0;32m--> 445\u001b[0m objs, keys \u001b[38;5;241m=\u001b[39m \u001b[38;5;28mself\u001b[39m\u001b[38;5;241m.\u001b[39m_clean_keys_and_objs(objs, keys)\n\u001b[1;32m    447\u001b[0m \u001b[38;5;66;03m# figure out what our result ndim is going to be\u001b[39;00m\n\u001b[1;32m    448\u001b[0m ndims \u001b[38;5;241m=\u001b[39m \u001b[38;5;28mself\u001b[39m\u001b[38;5;241m.\u001b[39m_get_ndims(objs)\n",
      "File \u001b[0;32m/opt/homebrew/anaconda3/lib/python3.12/site-packages/pandas/core/reshape/concat.py:507\u001b[0m, in \u001b[0;36m_Concatenator._clean_keys_and_objs\u001b[0;34m(self, objs, keys)\u001b[0m\n\u001b[1;32m    504\u001b[0m     objs_list \u001b[38;5;241m=\u001b[39m \u001b[38;5;28mlist\u001b[39m(objs)\n\u001b[1;32m    506\u001b[0m \u001b[38;5;28;01mif\u001b[39;00m \u001b[38;5;28mlen\u001b[39m(objs_list) \u001b[38;5;241m==\u001b[39m \u001b[38;5;241m0\u001b[39m:\n\u001b[0;32m--> 507\u001b[0m     \u001b[38;5;28;01mraise\u001b[39;00m \u001b[38;5;167;01mValueError\u001b[39;00m(\u001b[38;5;124m\"\u001b[39m\u001b[38;5;124mNo objects to concatenate\u001b[39m\u001b[38;5;124m\"\u001b[39m)\n\u001b[1;32m    509\u001b[0m \u001b[38;5;28;01mif\u001b[39;00m keys \u001b[38;5;129;01mis\u001b[39;00m \u001b[38;5;28;01mNone\u001b[39;00m:\n\u001b[1;32m    510\u001b[0m     objs_list \u001b[38;5;241m=\u001b[39m \u001b[38;5;28mlist\u001b[39m(com\u001b[38;5;241m.\u001b[39mnot_none(\u001b[38;5;241m*\u001b[39mobjs_list))\n",
      "\u001b[0;31mValueError\u001b[0m: No objects to concatenate"
     ]
    }
   ],
   "source": [
    "import h5py\n",
    "import pandas as pd\n",
    "import glob\n",
    "\n",
    "h5_files = glob.glob('testpartout*.h5')\n",
    "\n",
    "sims = []\n",
    "\n",
    "for file in h5_files:\n",
    "    with h5py.File(file, 'r') as h5f:\n",
    "        data = {dataset_name: h5f[dataset_name][:] for dataset_name in h5f}\n",
    "        df = pd.DataFrame(data)\n",
    "        sims.append(df)\n",
    "\n",
    "\n",
    "simtotal = pd.concat(sims, ignore_index=True)\n",
    "\n",
    "\n",
    "display(simtotal)\n",
    "\n"
   ]
  },
  {
   "cell_type": "code",
   "execution_count": 34,
   "id": "a207138a-5a6a-4bc7-b20d-645e9a64afb5",
   "metadata": {},
   "outputs": [
    {
     "data": {
      "image/png": "[encoded data removed]",
      "text/plain": [
       "<Figure size 640x480 with 1 Axes>"
      ]
     },
     "metadata": {},
     "output_type": "display_data"
    }
   ],
   "source": [
    "import matplotlib.pyplot as plt\n",
    "\n",
    "plt.scatter(simtotal['InitialVelocity'] ,simtotal['CaptureVolume'] );\n",
    "plt.yscale('log')\n",
    "plt.xscale('log')\n",
    "plt.show()"
   ]
  },
  {
   "cell_type": "code",
   "execution_count": 42,
   "id": "046cef94-9b44-42f1-b20d-4a3ddbcef8b3",
   "metadata": {},
   "outputs": [
    {
     "data": {
      "image/png": "[encoded data removed]",
      "text/plain": [
       "<Figure size 640x480 with 1 Axes>"
      ]
     },
     "metadata": {},
     "output_type": "display_data"
    }
   ],
   "source": [
    "capturedfraction = []\n",
    "\n",
    "for i in range(len(simtotal['Entered'])):\n",
    "    if simtotal['Entered'][i] == 0:\n",
    "        capturedfraction.append(0)\n",
    "    else:\n",
    "        capturedfraction.append(simtotal['Ncaptured'][i]/simtotal['Entered'][i])\n",
    "\n",
    "\n",
    "#print(capturedfraction)\n",
    "plt.hist(simtotal['Ncaptured'], bins = 'auto')\n",
    "plt.yscale('log')\n",
    "plt.show()"
   ]
  },
  {
   "cell_type": "markdown",
   "id": "e8f46429-a9de-4c6d-a881-224e40f97527",
   "metadata": {},
   "source": [
    "$$f = \\dfrac{1}{t_f} = n_0v_0\\pi b_{max}^2$$\n",
    "\n",
    "$$n_0 = \\dfrac{1}{\\pi t_f v_0 b_{max}^2}$$\n",
    "\n",
    "$$V = \\dfrac{N_{capt}}{n_0} \\tag{Can just use this case.}$$\n",
    "\n",
    "Here, $f$ is $\\dot{N}_{static}$ \n",
    "\n",
    "\n",
    "Can just use "
   ]
  },
  {
   "cell_type": "markdown",
   "id": "a57c2954-fe4b-4fd6-bbfb-0d68a62fe347",
   "metadata": {},
   "source": [
    "$\\verb|b = np.logspace(9, 17, 80)|$ \n",
    "\n",
    "$$\n",
    "\\verb|for i in range(0, 80):| \\\\\n",
    "    \\verb|submit_job(bmin = b[i], bmax = b[i+1])|\n",
    "$$\n",
    "\n"
   ]
  },
  {
   "cell_type": "markdown",
   "id": "ef396e0f-76f1-4513-9f99-8e57be9a812d",
   "metadata": {},
   "source": [
    "Write third script to calculate the capture volume after all the simulations have been run. "
   ]
  },
  {
   "cell_type": "code",
   "execution_count": 1,
   "id": "11d09ea8-9639-43c0-a6f7-a8ca6c86e2f1",
   "metadata": {},
   "outputs": [
    {
     "data": {
      "text/html": [
       "<div>\n",
       "<style scoped>\n",
       "    .dataframe tbody tr th:only-of-type {\n",
       "        vertical-align: middle;\n",
       "    }\n",
       "\n",
       "    .dataframe tbody tr th {\n",
       "        vertical-align: top;\n",
       "    }\n",
       "\n",
       "    .dataframe thead th {\n",
       "        text-align: right;\n",
       "    }\n",
       "</style>\n",
       "<table border=\"1\" class=\"dataframe\">\n",
       "  <thead>\n",
       "    <tr style=\"text-align: right;\">\n",
       "      <th></th>\n",
       "      <th>ImpactParameter</th>\n",
       "      <th>Entered</th>\n",
       "      <th>InitialVelocity</th>\n",
       "      <th>Ncaptured</th>\n",
       "      <th>CapturedVolume</th>\n",
       "    </tr>\n",
       "  </thead>\n",
       "  <tbody>\n",
       "    <tr>\n",
       "      <th>0</th>\n",
       "      <td>[]</td>\n",
       "      <td>0</td>\n",
       "      <td>0.2</td>\n",
       "      <td>0</td>\n",
       "      <td>0.0</td>\n",
       "    </tr>\n",
       "    <tr>\n",
       "      <th>1</th>\n",
       "      <td>[5.3208993e+17]</td>\n",
       "      <td>1</td>\n",
       "      <td>0.4</td>\n",
       "      <td>0</td>\n",
       "      <td>0.0</td>\n",
       "    </tr>\n",
       "    <tr>\n",
       "      <th>2</th>\n",
       "      <td>[]</td>\n",
       "      <td>0</td>\n",
       "      <td>0.6</td>\n",
       "      <td>0</td>\n",
       "      <td>0.0</td>\n",
       "    </tr>\n",
       "    <tr>\n",
       "      <th>3</th>\n",
       "      <td>[]</td>\n",
       "      <td>0</td>\n",
       "      <td>0.8</td>\n",
       "      <td>0</td>\n",
       "      <td>0.0</td>\n",
       "    </tr>\n",
       "    <tr>\n",
       "      <th>4</th>\n",
       "      <td>[2.9215897e+17]</td>\n",
       "      <td>1</td>\n",
       "      <td>1.0</td>\n",
       "      <td>0</td>\n",
       "      <td>0.0</td>\n",
       "    </tr>\n",
       "    <tr>\n",
       "      <th>...</th>\n",
       "      <td>...</td>\n",
       "      <td>...</td>\n",
       "      <td>...</td>\n",
       "      <td>...</td>\n",
       "      <td>...</td>\n",
       "    </tr>\n",
       "    <tr>\n",
       "      <th>995</th>\n",
       "      <td>[2.0208543e+15]</td>\n",
       "      <td>1</td>\n",
       "      <td>199.2</td>\n",
       "      <td>0</td>\n",
       "      <td>0.0</td>\n",
       "    </tr>\n",
       "    <tr>\n",
       "      <th>996</th>\n",
       "      <td>[]</td>\n",
       "      <td>0</td>\n",
       "      <td>199.4</td>\n",
       "      <td>0</td>\n",
       "      <td>0.0</td>\n",
       "    </tr>\n",
       "    <tr>\n",
       "      <th>997</th>\n",
       "      <td>[6.9281312e+14 3.4381154e+15 2.6772279e+15]</td>\n",
       "      <td>3</td>\n",
       "      <td>199.6</td>\n",
       "      <td>0</td>\n",
       "      <td>0.0</td>\n",
       "    </tr>\n",
       "    <tr>\n",
       "      <th>998</th>\n",
       "      <td>[4.0228784e+15]</td>\n",
       "      <td>1</td>\n",
       "      <td>199.8</td>\n",
       "      <td>0</td>\n",
       "      <td>0.0</td>\n",
       "    </tr>\n",
       "    <tr>\n",
       "      <th>999</th>\n",
       "      <td>[1.5502852e+15 1.2192411e+15]</td>\n",
       "      <td>2</td>\n",
       "      <td>200.0</td>\n",
       "      <td>0</td>\n",
       "      <td>0.0</td>\n",
       "    </tr>\n",
       "  </tbody>\n",
       "</table>\n",
       "<p>1000 rows × 5 columns</p>\n",
       "</div>"
      ],
      "text/plain": [
       "                                 ImpactParameter  Entered  InitialVelocity  \\\n",
       "0                                             []        0              0.2   \n",
       "1                                [5.3208993e+17]        1              0.4   \n",
       "2                                             []        0              0.6   \n",
       "3                                             []        0              0.8   \n",
       "4                                [2.9215897e+17]        1              1.0   \n",
       "..                                           ...      ...              ...   \n",
       "995                              [2.0208543e+15]        1            199.2   \n",
       "996                                           []        0            199.4   \n",
       "997  [6.9281312e+14 3.4381154e+15 2.6772279e+15]        3            199.6   \n",
       "998                              [4.0228784e+15]        1            199.8   \n",
       "999                [1.5502852e+15 1.2192411e+15]        2            200.0   \n",
       "\n",
       "     Ncaptured  CapturedVolume  \n",
       "0            0             0.0  \n",
       "1            0             0.0  \n",
       "2            0             0.0  \n",
       "3            0             0.0  \n",
       "4            0             0.0  \n",
       "..         ...             ...  \n",
       "995          0             0.0  \n",
       "996          0             0.0  \n",
       "997          0             0.0  \n",
       "998          0             0.0  \n",
       "999          0             0.0  \n",
       "\n",
       "[1000 rows x 5 columns]"
      ]
     },
     "execution_count": 1,
     "metadata": {},
     "output_type": "execute_result"
    }
   ],
   "source": [
    "import pandas as pd\n",
    "import matplotlib.pyplot as plt\n",
    "import numpy as np\n",
    "simulationdat = pd.read_csv('shusimulation.csv')\n",
    "#simulationdat = simulationdat.drop(columns=['Unnamed: 0'])\n",
    "\n",
    "simulationdat\n"
   ]
  },
  {
   "cell_type": "code",
   "execution_count": null,
   "id": "c7434d60-003b-4e4c-9ff9-5ec4a61be0d2",
   "metadata": {},
   "outputs": [],
   "source": []
  },
  {
   "cell_type": "code",
   "execution_count": null,
   "id": "d4bbc104-fcf4-4d29-872c-acf8398b1342",
   "metadata": {},
   "outputs": [],
   "source": []
  },
  {
   "cell_type": "code",
   "execution_count": 1,
   "id": "3ccce8b4-61d8-42da-8cf3-64f3ceebaf14",
   "metadata": {},
   "outputs": [
    {
     "ename": "NameError",
     "evalue": "name 'simulationdat' is not defined",
     "output_type": "error",
     "traceback": [
      "\u001b[0;31m---------------------------------------------------------------------------\u001b[0m",
      "\u001b[0;31mNameError\u001b[0m                                 Traceback (most recent call last)",
      "Cell \u001b[0;32mIn[1], line 3\u001b[0m\n\u001b[1;32m      1\u001b[0m \u001b[38;5;28;01mimport\u001b[39;00m \u001b[38;5;21;01mmatplotlib\u001b[39;00m\u001b[38;5;21;01m.\u001b[39;00m\u001b[38;5;21;01mpyplot\u001b[39;00m \u001b[38;5;28;01mas\u001b[39;00m \u001b[38;5;21;01mplt\u001b[39;00m\n\u001b[0;32m----> 3\u001b[0m v0vals \u001b[38;5;241m=\u001b[39m simulationdat[\u001b[38;5;124m'\u001b[39m\u001b[38;5;124mInitialVelocity\u001b[39m\u001b[38;5;124m'\u001b[39m][simulationdat[\u001b[38;5;124m'\u001b[39m\u001b[38;5;124mCapturedVolume\u001b[39m\u001b[38;5;124m'\u001b[39m] \u001b[38;5;241m!=\u001b[39m \u001b[38;5;241m0\u001b[39m]\n\u001b[1;32m      4\u001b[0m captv \u001b[38;5;241m=\u001b[39m simulationdat[\u001b[38;5;124m'\u001b[39m\u001b[38;5;124mCapturedVolume\u001b[39m\u001b[38;5;124m'\u001b[39m][simulationdat[\u001b[38;5;124m'\u001b[39m\u001b[38;5;124mCapturedVolume\u001b[39m\u001b[38;5;124m'\u001b[39m] \u001b[38;5;241m!=\u001b[39m \u001b[38;5;241m0\u001b[39m]\n\u001b[1;32m      5\u001b[0m plt\u001b[38;5;241m.\u001b[39myscale(\u001b[38;5;124m'\u001b[39m\u001b[38;5;124mlog\u001b[39m\u001b[38;5;124m'\u001b[39m)\n",
      "\u001b[0;31mNameError\u001b[0m: name 'simulationdat' is not defined"
     ]
    }
   ],
   "source": [
    "import matplotlib.pyplot as plt\n",
    "\n",
    "v0vals = simulationdat['InitialVelocity'][simulationdat['CapturedVolume'] != 0]\n",
    "captv = simulationdat['CapturedVolume'][simulationdat['CapturedVolume'] != 0]\n",
    "plt.yscale('log')\n",
    "plt.xscale('log')\n",
    "plt.plot(v0vals, captv)\n",
    "plt.show()"
   ]
  },
  {
   "cell_type": "code",
   "execution_count": 57,
   "id": "8129db07-eeae-4e4a-95ea-ccd91dd3544f",
   "metadata": {},
   "outputs": [
    {
     "data": {
      "image/png": "[encoded data removed]",
      "text/plain": [
       "<Figure size 640x480 with 1 Axes>"
      ]
     },
     "metadata": {},
     "output_type": "display_data"
    }
   ],
   "source": [
    "from numpy import random\n",
    "randomvar = []\n",
    "for i in range(int(1e4)):\n",
    "    randomvar.append(np.sqrt(np.random.random()))\n",
    "\n",
    "plt.hist(randomvar, bins = 'auto')\n",
    "plt.show()"
   ]
  },
  {
   "cell_type": "code",
   "execution_count": 61,
   "id": "0e2edc92-6118-4a7b-bcc1-abe8e3d822c4",
   "metadata": {},
   "outputs": [
    {
     "data": {
      "image/png": "[encoded data removed]",
      "text/plain": [
       "<Figure size 640x480 with 1 Axes>"
      ]
     },
     "metadata": {},
     "output_type": "display_data"
    }
   ],
   "source": [
    "import numpy as np\n",
    "import matplotlib.pyplot as plt\n",
    "\n",
    "bvals = []\n",
    "\n",
    "for i in range(len(simulationdat['ImpactParameter'])):\n",
    "    b_str = simulationdat['ImpactParameter'][i]\n",
    "    cleaned_b = b_str.strip('[]').replace(',', '').split()\n",
    "    for val in cleaned_b:\n",
    "        if val:\n",
    "            bvals.append(float(val))\n",
    "\n",
    "plt.hist(bvals, histtype = 'step' ,bins='auto')\n",
    "#plt.xscale('log')\n",
    "plt.xlabel('Impact Parameter [meters]')\n",
    "plt.show()\n"
   ]
  },
  {
   "cell_type": "code",
   "execution_count": 69,
   "id": "4f025fb0-4710-44d4-bf63-6467a66e205e",
   "metadata": {},
   "outputs": [
    {
     "data": {
      "text/plain": [
       "1.51567367147276e+49"
      ]
     },
     "execution_count": 69,
     "metadata": {},
     "output_type": "execute_result"
    }
   ],
   "source": [
    "import numpy as np\n",
    "import matplotlib.pyplot as plt\n",
    "import scipy\n",
    "from scipy import interpolate\n",
    "from scipy.optimize import brentq\n",
    "import h5py\n",
    "import math\n",
    "import rebound\n",
    "import sys\n",
    "import time\n",
    "script_R = 3.36*10**3\n",
    "T = 10 ##Kelvin\n",
    "B = 8.86\n",
    "c_s = math.sqrt(script_R*T)\n",
    "M = 1.989*10.0**30 ## kg \n",
    "G = 6.674*10.0**(-11)  ## m^3*kg^-1*s^-2\n",
    "a = 0.975471932310942752606143078377\n",
    "v_x = np.logspace(-6, 4, 10000)\n",
    "v_integral = np.loadtxt('shuInt.txt')\n",
    "\n",
    "IntHelper = scipy.interpolate.interp1d(v_x, v_integral, kind = 'cubic')\n",
    "\n",
    "def get_x_integral(x):\n",
    "    if x < 10.0**(-6):\n",
    "        return 0\n",
    "    if x > 2:\n",
    "        return IntHelper(2) + 2*(x-2)\n",
    "    return IntHelper(x)\n",
    "\n",
    "def Mtot(r, t):\n",
    "    r0 = c_s*t\n",
    "    centralMass = .975502*c_s**2*r0/G\n",
    "    Mcalc =  centralMass + r0**3/(G*t**2)*get_x_integral(r/r0)\n",
    "    return min(Mcalc, M)\n",
    "\n",
    "def getr_max(t):\n",
    "    return scipy.optimize.brentq(lambda r: (Mp(t)+getMenc(r, t)-2*10**30), .4, 20000)\n",
    "\n",
    "def getPhi(r, t):\n",
    "    rmax = (G*M)/(2*c_s**2)\n",
    "    phi_max = -G*M/rmax\n",
    "    r_meters = r\n",
    "    if r >= rmax:\n",
    "        return -G*M/r_meters\n",
    "    else:\n",
    "        return phi_max - G*trapIntegrateLog(lambda rp: (Mtot(rp, t))/rp**2, r_meters, rmax, 10000)\n",
    "\n",
    "def get_bmax(R, v0, t):\n",
    "    phi = getPhi(R, t)\n",
    "    return R*math.sqrt(1-2*phi/v0**2)\n",
    "\n",
    "np.pi*get_bmax((G*M)/(2*c_s**2), 1.2, 350000*3.154e7)**2*1.2*350000*3.154e7"
   ]
  },
  {
   "cell_type": "markdown",
   "id": "8f1e011a-953e-4c73-a068-5c950e34db41",
   "metadata": {},
   "source": [
    "- Check to see how many particles are entering $r<r_0$.\n",
    "\n",
    "- Is the change in energy zero for everything that isn't captured?\n",
    "    - Check how the energy behaves.\n",
    " "
   ]
  }
 ],
 "metadata": {
  "kernelspec": {
   "display_name": "base",
   "language": "python",
   "name": "python3"
  },
  "language_info": {
   "codemirror_mode": {
    "name": "ipython",
    "version": 3
   },
   "file_extension": ".py",
   "mimetype": "text/x-python",
   "name": "python",
   "nbconvert_exporter": "python",
   "pygments_lexer": "ipython3",
   "version": "3.12.2"
  }
 },
 "nbformat": 4,
 "nbformat_minor": 5
}
