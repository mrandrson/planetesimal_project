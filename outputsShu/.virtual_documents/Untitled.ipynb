import numpy 
import pandas as pd
from pandas.errors import EmptyDataError

file_path = f"./particle_energies/particle_dat10.csv"
energytime = pd.read_csv(file_path)

print(energytime)


def plotenergies(index):
    file_path = f"./particle_energies/particle_dat{index}.csv"
    try:
        energytime = pd.read_csv(file_path)
    except EmptyDataError:
        return
        
    for particle in energytime['particle']:
        plt.plot(energytime['time'][energytime['particle'] == particle], energytime['energy'][energytime['particle'] == particle])

for i in range(1, 99):
    plotenergies(i)

plt.xlabel('Time [yr]')
plt.ylabel(r'Energy $\left[\frac{m^2}{s^2}\right]$')
plt.show()


script_R = 3.36*10**3
T = 10 ##Kelvin
B = 8.86
c_s = np.sqrt(script_R*T)
M = 1.989*10.0**30 ## kg 
G = 6.674*10.0**(-11)  ## m^3*kg^-1*s^-2
a = 0.975471932310942752606143078377

rmax = (G*M)/(2*c_s**2)

fig, (ax1, ax2) = plt.subplots(2, 1, sharex=True, figsize=(10, 8))
def returncapture(index):
    file_path = f"./particle_energies/particle_dat{index}.csv"
    try:
        energytime = pd.read_csv(file_path)
    except EmptyDataError:
        return
    for particle in energytime['particle'].unique():
        if any(energytime['energy'][(energytime['particle'] == particle)] < 0):
            print(f"Particle {particle}, run {index} captured")
            t = energytime['time'][(energytime['particle'] == particle)]
            r0 = [cs*t[i] for i in range(len(t))]
            ax1.plot(t, energytime['energy'][(energytime['particle'] == particle)])
            ax1.set_ylabel(r'Energy $\left[\frac{m^2}{s^2}\right]$')
            ax2.plot(t, energytime['r'][(energytime['particle'] == particle)])
            ax2.plot(t, r0, label = r"$r_0$")
            ax2.plot(t, [rmax for i in range(len(t))], label = r'$r_{max}$')
            ax2.set_ylabel(r'Radius $\left[m\right]$')
            plt.xlabel(r't [yr]')

for i in range(1, 99):
    returncapture(i)


plt.legend()
plt.tight_layout()
plt.show()
